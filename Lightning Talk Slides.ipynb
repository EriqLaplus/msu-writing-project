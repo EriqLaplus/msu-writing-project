{
 "cells": [
  {
   "cell_type": "markdown",
   "metadata": {
    "slideshow": {
     "slide_type": "slide"
    }
   },
   "source": [
    "# Using Paired-Comparison Models to Predict Hitbox Advantage\n",
    "\n",
    "## Jordan Love\n",
    "### Dr. Andrew Hoegh"
   ]
  },
  {
   "cell_type": "markdown",
   "metadata": {
    "slideshow": {
     "slide_type": "slide"
    }
   },
   "source": [
    "# Motivation\n",
    "\n",
    "* Paired Comparison Models\n",
    "\n",
    "* Used for Predicting Preferences of Test Subjects or Strength of Sports Teams\n",
    "\n",
    "* ELO Rankings are based on the same principle"
   ]
  },
  {
   "cell_type": "markdown",
   "metadata": {
    "slideshow": {
     "slide_type": "slide"
    }
   },
   "source": [
    "# SaltyBet\n",
    "\n",
    "* Hosted on Twitch and runs 24/7\n",
    "\n",
    "* Over 1,000,000 matches since 2011\n",
    "\n",
    "* 9,664 unique characters"
   ]
  },
  {
   "cell_type": "markdown",
   "metadata": {
    "slideshow": {
     "slide_type": "slide"
    }
   },
   "source": [
    "<Insert Screenshot of Saltybet>"
   ]
  },
  {
   "cell_type": "markdown",
   "metadata": {
    "slideshow": {
     "slide_type": "slide"
    }
   },
   "source": [
    "# Character Attributes\n",
    "\n",
    "* Numerical values describing Health, Attack Strength, and Meter work in the game engine\n",
    "\n",
    "* Each character as a programmed AI to complement its style\n",
    "\n",
    "* The image defining a character is known as a Hitbox and defines where collisions can occur"
   ]
  },
  {
   "cell_type": "markdown",
   "metadata": {
    "slideshow": {
     "slide_type": "slide"
    }
   },
   "source": [
    "# Hitbox Advantages\n",
    "\n",
    "<Screenshots> and "
   ]
  },
  {
   "cell_type": "markdown",
   "metadata": {},
   "source": [
    "# Question of Interest\n",
    "\n",
    "* By what factor do hitbox advantages improve predictive accuracy, if at all?\n",
    "\n",
    "* Is there a specific hitbox differential after which this factor matters more?\n",
    "\n",
    "* For certain characters, attack style may not be limited by opponents (Area of Effect attacks). Can characters be identified?"
   ]
  },
  {
   "cell_type": "markdown",
   "metadata": {
    "slideshow": {
     "slide_type": "slide"
    }
   },
   "source": [
    "# Preliminary Evidence \n",
    "\n",
    "<Graphic>"
   ]
  },
  {
   "cell_type": "markdown",
   "metadata": {
    "slideshow": {
     "slide_type": "slide"
    }
   },
   "source": [
    "# Disconnected Comparison Graph\n",
    "\n",
    "* A (mathematical) graph can be made by making each character a node and place an edge between them if a match has been played between two characters\n",
    "\n",
    "* While there have been over 1,000,000 matches, this is far short from the required 9,664*(9,664-1) = 93,000,000 to ensure a completely connected graph\n",
    "\n",
    "* Possible solution: Apply priors to link disconnected components"
   ]
  },
  {
   "cell_type": "markdown",
   "metadata": {
    "slideshow": {
     "slide_type": "slide"
    }
   },
   "source": [
    "# Next Steps\n",
    "\n",
    "* Complete Dataset - Scraping is limited \n",
    "\n",
    "* Assess connectivity on the comparison graph from all matches\n",
    "\n",
    "* Improve Computational Time"
   ]
  }
 ],
 "metadata": {
  "celltoolbar": "Slideshow",
  "kernelspec": {
   "display_name": "Python 3",
   "language": "python",
   "name": "python3"
  },
  "language_info": {
   "codemirror_mode": {
    "name": "ipython",
    "version": 3
   },
   "file_extension": ".py",
   "mimetype": "text/x-python",
   "name": "python",
   "nbconvert_exporter": "python",
   "pygments_lexer": "ipython3",
   "version": "3.7.2"
  }
 },
 "nbformat": 4,
 "nbformat_minor": 2
}
