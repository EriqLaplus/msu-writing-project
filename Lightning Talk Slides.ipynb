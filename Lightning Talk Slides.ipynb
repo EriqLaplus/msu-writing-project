{
 "cells": [
  {
   "cell_type": "markdown",
   "metadata": {
    "slideshow": {
     "slide_type": "slide"
    }
   },
   "source": [
    "# Using Paired-Comparison Models to Predict Hitbox Advantage\n",
    "\n",
    "## Jordan Love\n",
    "### Dr. Andrew Hoegh"
   ]
  },
  {
   "cell_type": "markdown",
   "metadata": {
    "slideshow": {
     "slide_type": "slide"
    }
   },
   "source": [
    "# Motivation\n",
    "\n",
    "* Paired Comparison Models\n",
    "\n",
    "* Used for Predicting Preferences of Test Subjects or Strength of Sports Teams\n",
    "\n",
    "* ELO Rankings are based on the same principle"
   ]
  },
  {
   "cell_type": "markdown",
   "metadata": {
    "slideshow": {
     "slide_type": "slide"
    }
   },
   "source": [
    "<div style=\"display: inline-block\">\n",
    "    <h1> SaltyBet </h1>\n",
    "\n",
    "<ul>\n",
    "    <li>Hosted on Twitch and runs 24/7</li>\n",
    "\n",
    "<li>Over 1,000,000 matches since 2011</li>\n",
    "\n",
    "<li>9,664 unique characters</li>\n",
    "\n",
    "</ul>\n",
    "</div>\n",
    "<div style=\"float:right\">\n",
    "    <img src=\"http://159.89.140.224/SaltyBet.png\">\n",
    "</div>"
   ]
  },
  {
   "cell_type": "markdown",
   "metadata": {
    "slideshow": {
     "slide_type": "slide"
    }
   },
   "source": [
    "\n",
    "\n",
    "<tr>\n",
    "<td>\n",
    "    <div style=\"display: inline-block;\">\n",
    "    <h1> Character Attributes </h1>\n",
    "    <ul>\n",
    "    <li>Numerical values describing <b>Health</b>, <b>Attack Strength</b>, <br> and <b>Meter</b> work in the game engine</li>\n",
    "        <br>\n",
    "    <li>Each character as a programmed <b>AI</b> to complement its style</li>\n",
    "        <br>\n",
    "    <li>The image defining a character is known as a <br> <b>Hitbox</b> and defines where collisions can occur</li>\n",
    "    </ul>\n",
    "    </div>\n",
    "</td>\n",
    "<td>\n",
    "<img src='http://159.89.140.224/jotaro-0.png' style='display: inline-block; height: 234px; vertical-align: baseline; margin-left:auto; margin-right:auto;'/>\n",
    "<img src='http://159.89.140.224/bwars-0.png' style='display: inline-block; height: 36px; vertical-align: baseline; margin-left:auto; margin-right:auto;'/>\n",
    "    </td>\n",
    "</tr>"
   ]
  },
  {
   "cell_type": "markdown",
   "metadata": {
    "slideshow": {
     "slide_type": "slide"
    }
   },
   "source": [
    "# Questions of Interest\n",
    "\n",
    "* Does inclusion of hitbox advantages improve predictive accuracy?\n",
    "\n",
    "* Is there a specific threshold of hitbox difference which matters?\n",
    "\n",
    "* How does character attack range determine hitbox advantage vulnberability?"
   ]
  },
  {
   "cell_type": "markdown",
   "metadata": {
    "slideshow": {
     "slide_type": "slide"
    }
   },
   "source": [
    "# Disconnected Comparison Graph\n",
    "\n",
    "<img src=\"http://159.89.140.224/disconnected_1.png\" style=\"height: 500px\"/>"
   ]
  },
  {
   "cell_type": "markdown",
   "metadata": {
    "slideshow": {
     "slide_type": "slide"
    }
   },
   "source": [
    "# References\n",
    "\n",
    "* Glickman, M. E. (n.d.). _A Comprehensive Guide to Chess Rankings._ Department of Mathematics Boston University 111 Cummington St., Boston, MA 02215. \n",
    "\n",
    "* Tsukida, K., & Gupta, M. R. (2011, May). _How to Analyze Paired Comparison Data_ [Https://apps.dtic.mil/dtic/tr/fulltext/u2/a543806.pdf]. University of Washington, Seattle, WA 98195. \n",
    "\n",
    "* McCormick, R. (2013, September 11). Twitch-based: Exploring the Salty Bet phenomenon. Retrieved from https://www.eurogamer.net/articles/2013-09-11-twitch-based-exploring-the-salty-bet-phenomenon "
   ]
  }
 ],
 "metadata": {
  "celltoolbar": "Slideshow",
  "kernelspec": {
   "display_name": "Python 3",
   "language": "python",
   "name": "python3"
  },
  "language_info": {
   "codemirror_mode": {
    "name": "ipython",
    "version": 3
   },
   "file_extension": ".py",
   "mimetype": "text/x-python",
   "name": "python",
   "nbconvert_exporter": "python",
   "pygments_lexer": "ipython3",
   "version": "3.7.2"
  }
 },
 "nbformat": 4,
 "nbformat_minor": 2
}
