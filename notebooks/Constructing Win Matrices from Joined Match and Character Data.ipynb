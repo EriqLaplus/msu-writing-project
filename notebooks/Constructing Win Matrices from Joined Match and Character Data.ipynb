{
 "cells": [
  {
   "cell_type": "code",
   "execution_count": null,
   "metadata": {},
   "outputs": [],
   "source": [
    "complete_match_data = pd.DataFrame(temp_dict).transpose()"
   ]
  },
  {
   "cell_type": "code",
   "execution_count": null,
   "metadata": {},
   "outputs": [],
   "source": [
    "len(complete_match_data)"
   ]
  },
  {
   "cell_type": "code",
   "execution_count": null,
   "metadata": {},
   "outputs": [],
   "source": [
    "removal_list"
   ]
  },
  {
   "cell_type": "code",
   "execution_count": null,
   "metadata": {},
   "outputs": [],
   "source": [
    "np.savetxt(\"/home/jordan/basic_win_matrix.csv\", win_matrix, delimiter=\",\")"
   ]
  },
  {
   "cell_type": "code",
   "execution_count": null,
   "metadata": {},
   "outputs": [],
   "source": [
    "hitbox_dict = joined_dataset.reset_index().to_dict('index')\n",
    "hitbox_dict"
   ]
  },
  {
   "cell_type": "code",
   "execution_count": null,
   "metadata": {},
   "outputs": [],
   "source": [
    "height_advantage_win_matrix = np.zeros((len(joined_dataset), len(joined_dataset)))\n",
    "height_advantage_loss_matrix = np.zeros((len(joined_dataset), len(joined_dataset)))\n",
    "for match in complete_match_data.iterrows():\n",
    "    if match[0] % 10000 == 0:\n",
    "        print(match[0])\n",
    "    winner_index = natural_indexed_dict[match[1][match[1]['WinnerId']]]['index']\n",
    "    if match[1]['WinnerId'] == 'Red':\n",
    "        loser_index = natural_indexed_dict[match[1]['Blue']]['index']\n",
    "    else:\n",
    "        loser_index = natural_indexed_dict[match[1]['Red']]['index']\n",
    "    if hitbox_dict[winner_index]['Height'] > hitbox_dict[loser_index]['Height']:\n",
    "        height_advantage_win_matrix[winner_index, loser_index] = height_advantage_win_matrix[winner_index, loser_index] + 1\n",
    "    else:\n",
    "        height_advantage_loss_matrix[winner_index, loser_index] = height_advantage_loss_matrix[winner_index, loser_index] + 1\n",
    "        \n",
    "np.savetxt(\"/home/jordan/height_advantage_win_matrix.csv\", height_advantage_win_matrix, delimiter=\",\")\n",
    "np.savetxt(\"/home/jordan/height_advantage_loss_matrix.csv\", height_advantage_loss_matrix, delimiter=\",\")"
   ]
  },
  {
   "cell_type": "code",
   "execution_count": null,
   "metadata": {},
   "outputs": [],
   "source": [
    "width_advantage_win_matrix = np.zeros((len(joined_dataset), len(joined_dataset)))\n",
    "width_advantage_loss_matrix = np.zeros((len(joined_dataset), len(joined_dataset)))\n",
    "for match in complete_match_data.iterrows():\n",
    "    if match[0] % 10000 == 0:\n",
    "        print(match[0])\n",
    "    winner_index = natural_indexed_dict[match[1][match[1]['WinnerId']]]['index']\n",
    "    if match[1]['WinnerId'] == 'Red':\n",
    "        loser_index = natural_indexed_dict[match[1]['Blue']]['index']\n",
    "    else:\n",
    "        loser_index = natural_indexed_dict[match[1]['Red']]['index']\n",
    "    if hitbox_dict[winner_index]['Width'] > hitbox_dict[loser_index]['Width']:\n",
    "        width_advantage_win_matrix[winner_index, loser_index] = width_advantage_win_matrix[winner_index, loser_index] + 1\n",
    "    else:\n",
    "        width_advantage_loss_matrix[winner_index, loser_index] = width_advantage_loss_matrix[winner_index, loser_index] + 1\n",
    "        \n",
    "np.savetxt(\"/home/jordan/width_advantage_win_matrix.csv\", width_advantage_win_matrix, delimiter=\",\")\n",
    "np.savetxt(\"/home/jordan/width_advantage_loss_matrix.csv\", width_advantage_loss_matrix, delimiter=\",\")"
   ]
  }
 ],
 "metadata": {
  "kernelspec": {
   "display_name": "Python 3",
   "language": "python",
   "name": "python3"
  },
  "language_info": {
   "codemirror_mode": {
    "name": "ipython",
    "version": 3
   },
   "file_extension": ".py",
   "mimetype": "text/x-python",
   "name": "python",
   "nbconvert_exporter": "python",
   "pygments_lexer": "ipython3",
   "version": "3.7.3"
  }
 },
 "nbformat": 4,
 "nbformat_minor": 2
}
