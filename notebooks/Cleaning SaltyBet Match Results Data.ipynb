{
 "cells": [
  {
   "cell_type": "code",
   "execution_count": null,
   "metadata": {},
   "outputs": [],
   "source": [
    "match_results = []\n",
    "\n",
    "for match_file in os.listdir('/home/jordan/saltybetdata/scraping_scripts/match_results/'):\n",
    "    with open('/home/jordan/saltybetdata/scraping_scripts/match_results/' + match_file) as input_file:\n",
    "        match_result = input_file.read().split('\\n')[0:2]\n",
    "        if len(match_result) == 2:\n",
    "            try:\n",
    "                first_competitor = match_result[0].split(' vs ')[0]\n",
    "                second_competitor = match_result[0].split(' vs ')[1].split(' at ')[0]\n",
    "                winner = match_result[1][8:]\n",
    "                if first_competitor == winner:\n",
    "                    winner_id = 'Red'\n",
    "                elif second_competitor == winner:\n",
    "                    winner_id = 'Blue'\n",
    "                else:\n",
    "                    winner_id = 'N/A'\n",
    "                    \n",
    "                match_id = match_file.split('_')[2].split('.t')[0]\n",
    "                match_results.append([int(match_id), first_competitor, second_competitor, winner_id])\n",
    "            except Exception as e:\n",
    "                print(e)\n",
    "                print(match_result)"
   ]
  },
  {
   "cell_type": "code",
   "execution_count": null,
   "metadata": {},
   "outputs": [],
   "source": [
    "match_df = pd.DataFrame(match_results, columns=['MatchId', 'Red', 'Blue', 'WinnerId'])"
   ]
  },
  {
   "cell_type": "code",
   "execution_count": null,
   "metadata": {},
   "outputs": [],
   "source": [
    "# Total number of matches\n",
    "len(match_df) "
   ]
  },
  {
   "cell_type": "code",
   "execution_count": null,
   "metadata": {},
   "outputs": [],
   "source": [
    "# Remove exhibition teams\n",
    "match_df = match_df[~(match_df['Red'].str.contains('Team')|match_df['Blue'].str.contains('Team'))]"
   ]
  },
  {
   "cell_type": "code",
   "execution_count": null,
   "metadata": {},
   "outputs": [],
   "source": [
    "len(match_df)"
   ]
  },
  {
   "cell_type": "code",
   "execution_count": null,
   "metadata": {},
   "outputs": [],
   "source": [
    "# Remove ties\n",
    "match_df = match_df[match_df['WinnerId'] != 'N/A']"
   ]
  },
  {
   "cell_type": "code",
   "execution_count": null,
   "metadata": {},
   "outputs": [],
   "source": [
    "len(match_df)"
   ]
  },
  {
   "cell_type": "code",
   "execution_count": null,
   "metadata": {},
   "outputs": [],
   "source": [
    "# Remove self fights\n",
    "print(len(match_df[match_df['Blue'] == match_df['Red']]))\n",
    "match_df = match_df[match_df['Blue'] != match_df['Red']]"
   ]
  },
  {
   "cell_type": "code",
   "execution_count": null,
   "metadata": {},
   "outputs": [],
   "source": [
    "# Total number of matches which align with a known character\n",
    "match_df = match_df[(match_df['Red'].isin(joined_dataset['Name']))&(match_df['Blue'].isin(joined_dataset['Name']))]\n",
    "len(match_df)"
   ]
  },
  {
   "cell_type": "code",
   "execution_count": null,
   "metadata": {},
   "outputs": [],
   "source": [
    "match_df = match_df[match_df['Blue'].isin(joined_dataset['Name'])&(match_df['Red'].isin(joined_dataset['Name']))]"
   ]
  },
  {
   "cell_type": "code",
   "execution_count": null,
   "metadata": {},
   "outputs": [],
   "source": [
    "match_df[['MatchId', 'Red', 'Blue', 'WinnerId']].to_csv('/home/jordan/match_data.csv')"
   ]
  }
 ],
 "metadata": {
  "kernelspec": {
   "display_name": "Python 3",
   "language": "python",
   "name": "python3"
  },
  "language_info": {
   "codemirror_mode": {
    "name": "ipython",
    "version": 3
   },
   "file_extension": ".py",
   "mimetype": "text/x-python",
   "name": "python",
   "nbconvert_exporter": "python",
   "pygments_lexer": "ipython3",
   "version": "3.7.3"
  }
 },
 "nbformat": 4,
 "nbformat_minor": 2
}
