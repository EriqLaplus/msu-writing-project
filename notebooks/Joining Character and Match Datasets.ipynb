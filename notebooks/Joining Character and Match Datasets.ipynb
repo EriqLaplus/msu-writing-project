{
 "cells": [
  {
   "cell_type": "code",
   "execution_count": null,
   "metadata": {},
   "outputs": [],
   "source": [
    "match_df = match_df[match_df['Blue'].isin(joined_dataset['Name'])&(match_df['Red'].isin(joined_dataset['Name']))]"
   ]
  },
  {
   "cell_type": "code",
   "execution_count": null,
   "metadata": {},
   "outputs": [],
   "source": [
    "temp_dict = match_df.to_dict('index')"
   ]
  },
  {
   "cell_type": "code",
   "execution_count": null,
   "metadata": {},
   "outputs": [],
   "source": [
    "character_dict = joined_dataset.reset_index().set_index('Name').to_dict('index')"
   ]
  },
  {
   "cell_type": "code",
   "execution_count": null,
   "metadata": {},
   "outputs": [],
   "source": [
    "for item in temp_dict:\n",
    "    try:\n",
    "        temp_dict[item]['RedId'] = character_dict[temp_dict[item]['Red']]['CharacterId']\n",
    "        temp_dict[item]['RedWidth'] = character_dict[temp_dict[item]['Red']]['Width']\n",
    "        temp_dict[item]['RedHeight'] = character_dict[temp_dict[item]['Red']]['Height']\n",
    "        temp_dict[item]['BlueId'] = character_dict[temp_dict[item]['Blue']]['CharacterId']\n",
    "        temp_dict[item]['BlueWidth'] = character_dict[temp_dict[item]['Blue']]['Width']\n",
    "        temp_dict[item]['BlueHeight'] = character_dict[temp_dict[item]['Blue']]['Height']\n",
    "        if item % 10000 == 0:\n",
    "            print(item)\n",
    "    except:\n",
    "        print(temp_dict[item]['Red'], temp_dict[item]['Blue'])"
   ]
  },
  {
   "cell_type": "code",
   "execution_count": null,
   "metadata": {},
   "outputs": [],
   "source": [
    "pd.DataFrame(temp_dict).transpose().to_csv('/home/jordan/joined_match_data.csv')"
   ]
  },
  {
   "cell_type": "code",
   "execution_count": null,
   "metadata": {},
   "outputs": [],
   "source": [
    "# Creating Test and Train Datasets\n",
    "\n",
    "## Train Dataset\n",
    "\n",
    "msk = np.random.rand(len(complete_match_data)) < 0.9\n",
    "\n",
    "test_match_data = complete_match_data[~msk]\n",
    "complete_match_data = complete_match_data[msk]"
   ]
  }
 ],
 "metadata": {
  "kernelspec": {
   "display_name": "Python 3",
   "language": "python",
   "name": "python3"
  },
  "language_info": {
   "codemirror_mode": {
    "name": "ipython",
    "version": 3
   },
   "file_extension": ".py",
   "mimetype": "text/x-python",
   "name": "python",
   "nbconvert_exporter": "python",
   "pygments_lexer": "ipython3",
   "version": "3.7.3"
  }
 },
 "nbformat": 4,
 "nbformat_minor": 2
}
