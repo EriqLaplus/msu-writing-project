{
 "cells": [
  {
   "cell_type": "code",
   "execution_count": null,
   "metadata": {},
   "outputs": [],
   "source": [
    "natural_indexed_dict = joined_dataset.reset_index().reset_index().set_index('Name').to_dict('index')\n",
    "natural_indexed_dict"
   ]
  },
  {
   "cell_type": "code",
   "execution_count": null,
   "metadata": {},
   "outputs": [],
   "source": [
    "len(list(set(complete_match_data['Blue'].values).union(set(complete_match_data['Red']))))"
   ]
  },
  {
   "cell_type": "code",
   "execution_count": null,
   "metadata": {},
   "outputs": [],
   "source": [
    "len(test_match_data)"
   ]
  },
  {
   "cell_type": "code",
   "execution_count": null,
   "metadata": {},
   "outputs": [],
   "source": [
    "natural_indexed_dict = joined_dataset.reset_index().reset_index().set_index('Name').to_dict('index')\n",
    "natural_indexed_dict"
   ]
  },
  {
   "cell_type": "code",
   "execution_count": null,
   "metadata": {},
   "outputs": [],
   "source": [
    "# Average number of matches per character\n",
    "x = complete_match_data['Blue'].value_counts() +complete_match_data['Red'].value_counts()\n",
    "x.mean()\n",
    "x.median()"
   ]
  },
  {
   "cell_type": "code",
   "execution_count": null,
   "metadata": {},
   "outputs": [],
   "source": [
    "win_matrix = np.zeros((len(joined_dataset), len(joined_dataset)))\n",
    "for match in complete_match_data.iterrows():\n",
    "    if match[0] % 10000 == 0:\n",
    "        print(match[0])\n",
    "    winner_index = natural_indexed_dict[match[1][match[1]['WinnerId']]]['index']\n",
    "    if match[1]['WinnerId'] == 'Red':\n",
    "        loser_index = natural_indexed_dict[match[1]['Blue']]['index']\n",
    "    else:\n",
    "        loser_index = natural_indexed_dict[match[1]['Red']]['index']\n",
    "    win_matrix[winner_index, loser_index] = win_matrix[winner_index, loser_index] + 1"
   ]
  },
  {
   "cell_type": "code",
   "execution_count": null,
   "metadata": {},
   "outputs": [],
   "source": [
    "adjacency_dict = {}\n",
    "for row_index in range(len(win_matrix)):\n",
    "    adjacency_dict[row_index] = []\n",
    "    if row_index % 1000 == 0:\n",
    "        print(row_index)\n",
    "    for col_index in range(len(win_matrix)):\n",
    "        if win_matrix[row_index, col_index] > 0:\n",
    "            adjacency_dict[row_index].append(col_index)\n",
    "    \n",
    "print(adjacency_dict)"
   ]
  }
 ],
 "metadata": {
  "kernelspec": {
   "display_name": "Python 3",
   "language": "python",
   "name": "python3"
  },
  "language_info": {
   "codemirror_mode": {
    "name": "ipython",
    "version": 3
   },
   "file_extension": ".py",
   "mimetype": "text/x-python",
   "name": "python",
   "nbconvert_exporter": "python",
   "pygments_lexer": "ipython3",
   "version": "3.7.3"
  }
 },
 "nbformat": 4,
 "nbformat_minor": 2
}
